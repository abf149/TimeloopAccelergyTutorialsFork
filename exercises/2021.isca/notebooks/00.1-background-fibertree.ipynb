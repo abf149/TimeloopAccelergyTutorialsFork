{
 "cells": [
  {
   "cell_type": "markdown",
   "metadata": {
    "slideshow": {
     "slide_type": "-"
    }
   },
   "source": [
    "# Sparseloop Tutorial - 00 - Background\n",
    "\n",
    "The notebooks with names \"\\<number\\>.1-\\<name\\>-fibertree\" contain a series of examples of various computations using the  **fibertree** emulator to illustrate the impact of a set of optimizations to exploit sparsity. \n",
    "\n",
    "To initialize the fibertree environment some setup is required using the incantation in the following cell:"
   ]
  },
  {
   "cell_type": "code",
   "execution_count": 4,
   "metadata": {
    "slideshow": {
     "slide_type": "-"
    }
   },
   "outputs": [
    {
     "data": {
      "application/javascript": [
       "IPython.notebook.execute_cells_below()"
      ],
      "text/plain": [
       "<IPython.core.display.Javascript object>"
      ]
     },
     "metadata": {},
     "output_type": "display_data"
    },
    {
     "data": {
      "application/vnd.jupyter.widget-view+json": {
       "model_id": "615135dda49049eda9a89bbf3723c5b6",
       "version_major": 2,
       "version_minor": 0
      },
      "text/plain": [
       "interactive(children=(Dropdown(description='style', options=('tree', 'uncompressed', 'tree+uncompressed'), val…"
      ]
     },
     "metadata": {},
     "output_type": "display_data"
    },
    {
     "data": {
      "application/vnd.jupyter.widget-view+json": {
       "model_id": "d1fa23e4874a4e329fb1ba9f273d74fd",
       "version_major": 2,
       "version_minor": 0
      },
      "text/plain": [
       "Button(description='Run all cells below', style=ButtonStyle())"
      ]
     },
     "metadata": {},
     "output_type": "display_data"
    }
   ],
   "source": [
    "# Run boilerplate code to set up environment\n",
    "\n",
    "%run ./prelude.py --style=tree --animation=movie"
   ]
  },
  {
   "cell_type": "markdown",
   "metadata": {},
   "source": [
    "## Einsum notation\n",
    "\n",
    "The computations in there notebooks will generally be characterized by an Einsum-style expression. For example the Einsum for matrix multiply is:\n",
    "\n",
    "$$ A_{m,n} = A_{m,k} \\times B_{k,n} $$\n",
    "    \n",
    "In an Einsum the capital letters represent the **tensors** in the computation and their subscripts (**indices**) indicate the ranks of the tensor. Indices that appear in variables on both the left (output) and right (input) side of the expression mean that a output will be created for each valid values for those indices and that output will be based on the corresponding inputs with the same index values. The ranks associated with such indices are referred to as **uncontracted** dimensions. Indices that only appear on the right imply that there is a reduction across all the values of that index. The ranks associated with such indices are referred to as **contracted** dimensions. "
   ]
  },
  {
   "cell_type": "markdown",
   "metadata": {},
   "source": [
    "## Coding conventions\n",
    "\n",
    "These fibertree-based notebooks usually following the following naming convention:\n",
    "\n",
    "- Rank names (or **ids**) will be an uppercase letter string, e.g., \"K\"\n",
    "- Variables holding the **shape** of a fiber in a rank will be an uppercase letter matching the name of the rank, e.g., `K`\n",
    "- Variables holding a **coordinate** in a fiber of a  rank will be a lowercase letter matching the name of the rank, e.g., `k`\n",
    "- Variables holding a **tensor** will be uppercase letters with the name of the tensor followed by an underscore (_) and the names of its ranks in uppercase, e.g., \"A_MK\"\n",
    "- Variables holding a **fiber** of a rank will be lowercase letters with the name of the tensor followed by an underscore (_) and the name of the fiber's rank in lowercase, .e.g., \"a_m\"."
   ]
  },
  {
   "cell_type": "markdown",
   "metadata": {},
   "source": [
    "## Creating Tensors\n",
    "\n",
    "The fibertree language allows one to set up Jupyter controls using the `TensorMaker()` class to dynamically set attributes of a randomly populated tensor. The attributes that can be set are:\n",
    "\n",
    "- name - the name of the tensor\n",
    "- rank_ids - a list of names of the ranks in the tensor in order from top to bottom\n",
    "- shape - a list of **shapes** of the fibers in each rank\n",
    "- interval - the top of the interval starting at 0 of legal values from elements of the tensor\n",
    "- density - the uniform density for values of elements of tensor being non-zero\n",
    "- color - a color to use when displaying the tensor\n",
    "- seed - a random number seed used when creating the tensor\n",
    "\n",
    "When declaring a tensor the `name` and `rank_ids` parameters are required but default values can be set for all the other attributes using keyword parameters to the `TensorMaker.addTensor()` method.\n",
    "\n",
    "The cell below declares a rank-1 and a rank-2 tensor."
   ]
  },
  {
   "cell_type": "code",
   "execution_count": 5,
   "metadata": {},
   "outputs": [
    {
     "data": {
      "application/vnd.jupyter.widget-view+json": {
       "model_id": "89833d13d85e4da5bc2bdf29100f2e03",
       "version_major": 2,
       "version_minor": 0
      },
      "text/plain": [
       "interactive(children=(Label(value='Tensor Creation Controls', description='Title'), Label(value='Tensor A', de…"
      ]
     },
     "metadata": {},
     "output_type": "display_data"
    },
    {
     "data": {
      "application/vnd.jupyter.widget-view+json": {
       "model_id": "980fe2b079624a77af4ed515450d026a",
       "version_major": 2,
       "version_minor": 0
      },
      "text/plain": [
       "HBox(children=(Button(description='Load', style=ButtonStyle(), tooltip='Load all controls values from a file')…"
      ]
     },
     "metadata": {},
     "output_type": "display_data"
    }
   ],
   "source": [
    "#\n",
    "# Set default tensor attributes (i.e., the shape of the tensors)\n",
    "#\n",
    "L = 10\n",
    "N = 5\n",
    "\n",
    "#\n",
    "# Create controls to configure the `A` and `B` tensors\n",
    "#\n",
    "tm = TensorMaker(\"sparseloop-background\")\n",
    "\n",
    "tm.addTensor(\"A\", rank_ids=[\"L\"], shape=[L], density=0.4, color=\"blue\")\n",
    "tm.addTensor(\"B\", rank_ids=[\"N\", \"L\"], shape=[N, L], density=0.2, color=\"green\")\n",
    "\n",
    "tm.displayControls()\n"
   ]
  },
  {
   "cell_type": "markdown",
   "metadata": {},
   "source": [
    "## Create and display the tensors\n",
    "\n",
    "The tensors `A` and `B` declared above can be instantiated using the `TensorMaker.makeTensor()` method and displayed using the `displayTensor()` method.\n",
    "\n",
    "In the diagrams the tree begins with a root (black diamond). Below the root, the **ranks** are visible as labeled levels in the tree, and each rank consists of one or more **fibers** (grey ovals). Each fiber contains a set of **coordinates** (numbers in brown circles) and each coordinate is assocaited with a **payload** that is either another fiber at the next rank or a leaf **value** (box colored as specified in the control boxes above).\n",
    " "
   ]
  },
  {
   "cell_type": "code",
   "execution_count": 6,
   "metadata": {
    "scrolled": false
   },
   "outputs": [
    {
     "data": {
      "image/png": "[encoded data removed]",
      "text/plain": [
       "<PIL.Image.Image image mode=RGB size=720x250 at 0x7FC4A0F2C760>"
      ]
     },
     "metadata": {},
     "output_type": "display_data"
    },
    {
     "data": {
      "image/png": "[encoded data removed]",
      "text/plain": [
       "<PIL.Image.Image image mode=RGB size=1120x330 at 0x7FC4644D0A00>"
      ]
     },
     "metadata": {},
     "output_type": "display_data"
    }
   ],
   "source": [
    "#\n",
    "# Create instances of the tensors\n",
    "#\n",
    "\n",
    "A_K = tm.makeTensor(\"A\")\n",
    "B_K = tm.makeTensor(\"B\")\n",
    "\n",
    "#\n",
    "# Display the tensors\n",
    "#\n",
    "displayTensor(A_K)\n",
    "displayTensor(B_K)\n"
   ]
  },
  {
   "cell_type": "markdown",
   "metadata": {},
   "source": [
    "## Testing area\n",
    "\n",
    "For running alternative algorithms"
   ]
  },
  {
   "cell_type": "code",
   "execution_count": null,
   "metadata": {},
   "outputs": [],
   "source": []
  },
  {
   "cell_type": "code",
   "execution_count": null,
   "metadata": {},
   "outputs": [],
   "source": []
  }
 ],
 "metadata": {
  "kernelspec": {
   "display_name": "Python 3",
   "language": "python",
   "name": "python3"
  },
  "language_info": {
   "codemirror_mode": {
    "name": "ipython",
    "version": 3
   },
   "file_extension": ".py",
   "mimetype": "text/x-python",
   "name": "python",
   "nbconvert_exporter": "python",
   "pygments_lexer": "ipython3",
   "version": "3.8.8"
  }
 },
 "nbformat": 4,
 "nbformat_minor": 2
}
