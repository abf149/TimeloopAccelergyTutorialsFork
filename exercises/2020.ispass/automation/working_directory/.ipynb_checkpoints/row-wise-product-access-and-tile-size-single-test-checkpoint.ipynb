{
 "cells": [
  {
   "cell_type": "markdown",
   "id": "99d753c5",
   "metadata": {},
   "source": [
    "# Row-wise product access count & tile size test with Timeloop+Accelergy\n",
    "\n",
    "This notebook shows how to execute a Timeloop+Accelergy experiment with a single test condition. Here the test condition is defined by a combination of architecture, dataflow and problem. A more complex experiment could have multiple test conditions, each of which would be one testpoint in a grid search"
   ]
  },
  {
   "cell_type": "markdown",
   "id": "1602e218",
   "metadata": {},
   "source": [
    "1. Set up project files for single test"
   ]
  },
  {
   "cell_type": "code",
   "execution_count": 8,
   "id": "39fb6435",
   "metadata": {},
   "outputs": [],
   "source": [
    "automation_dir=\"/home/workspace/workspace/automation\"\n",
    "work_dir=\"working_directory\"\n",
    "template_dir=\"template_project\"\n",
    "grid_search_dir=\"sweep_points\"\n",
    "grid_point_dir=\"sweep_point_0\""
   ]
  },
  {
   "cell_type": "code",
   "execution_count": 12,
   "id": "942dfead",
   "metadata": {},
   "outputs": [],
   "source": [
    "%%bash -s \"$automation_dir\" \"$work_dir\" \"$template_dir\" \"$grid_search_dir\" \"$grid_point_dir\"\n",
    "cp -r $1/$3/* $1/$2/$4/$5/"
   ]
  },
  {
   "cell_type": "markdown",
   "id": "a2026e4b",
   "metadata": {},
   "source": [
    "2. Run timeloop and Accelergy against the project files"
   ]
  },
  {
   "cell_type": "code",
   "execution_count": 5,
   "id": "bdeaff9b",
   "metadata": {},
   "outputs": [
    {
     "name": "stdout",
     "output_type": "stream",
     "text": [
      "execute:/usr/local/bin/accelergy /home/workspace/workspace/automation/working_directory/sweep_points/sweep_point_0/arch/sparse-exporation-architecture.yaml /home/workspace/workspace/automation/working_directory/sweep_points/sweep_point_0/arch/components/SRAM_metadata.yaml /home/workspace/workspace/automation/working_directory/sweep_points/sweep_point_0/arch/components/reg_metadata.yaml /home/workspace/workspace/automation/working_directory/sweep_points/sweep_point_0/arch/components/regfile_metadata.yaml /home/workspace/workspace/automation/working_directory/sweep_points/sweep_point_0/arch/components/smartbuffer_RF.yaml /home/workspace/workspace/automation/working_directory/sweep_points/sweep_point_0/arch/components/smartbuffer_SRAM.yaml /home/workspace/workspace/automation/working_directory/sweep_points/sweep_point_0/map/naive-row-wise-product.map.yaml /home/workspace/workspace/automation/working_directory/sweep_points/sweep_point_0/prob/prob.yaml /home/workspace/workspace/automation/working_directory/sweep_points/sweep_point_0/sparse-opt/naive-row-wise-product.yaml --oprefix timeloop-model. -o /home/workspace/workspace/automation/working_directory/sweep_points/sweep_point_0/output// > timeloop-model.accelergy.log 2>&1\n",
      "Sparse optimization configuration complete.\n",
      "Utilization = 1.00 | pJ/Algorithmic-Compute = 9657.492 | pJ/Compute = 965748.635\n"
     ]
    }
   ],
   "source": [
    "%%bash -s \"$automation_dir\" \"$work_dir\" \"$template_dir\" \"$grid_search_dir\" \"$grid_point_dir\"\n",
    "timeloop-model $1/$2/$4/$5/arch/*.yaml $1/$2/$4/$5/arch/components/*.yaml $1/$2/$4/$5/map/*.yaml $1/$2/$4/$5/prob/*.yaml $1/$2/$4/$5/sparse-opt/*.yaml -o $1/$2/$4/$5/output/"
   ]
  },
  {
   "cell_type": "markdown",
   "id": "45611684",
   "metadata": {},
   "source": []
  },
  {
   "cell_type": "code",
   "execution_count": null,
   "id": "254f66e5",
   "metadata": {},
   "outputs": [],
   "source": []
  },
  {
   "cell_type": "markdown",
   "id": "923cda6b",
   "metadata": {},
   "source": []
  }
 ],
 "metadata": {
  "kernelspec": {
   "display_name": "Python 3",
   "language": "python",
   "name": "python3"
  },
  "language_info": {
   "codemirror_mode": {
    "name": "ipython",
    "version": 3
   },
   "file_extension": ".py",
   "mimetype": "text/x-python",
   "name": "python",
   "nbconvert_exporter": "python",
   "pygments_lexer": "ipython3",
   "version": "3.8.8"
  }
 },
 "nbformat": 4,
 "nbformat_minor": 5
}
