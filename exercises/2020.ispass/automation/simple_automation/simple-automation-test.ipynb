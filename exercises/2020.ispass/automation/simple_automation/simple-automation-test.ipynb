{
 "cells": [
  {
   "cell_type": "code",
   "execution_count": 4,
   "id": "ebd54a6a",
   "metadata": {},
   "outputs": [],
   "source": [
    "import subprocess\n",
    "\n",
    "# inner, outer, naive-row-wise\n",
    "def run_experiment(dataflow, density):\n",
    "    print(\"- starting experiment...\")\n",
    "    density=str(density)\n",
    "    cmd=\"timeloop-mapper arch/sparse-exporation-architecture.yaml arch/components/*.yaml prob/prob\" + density + \".yaml mapper/mapper.yaml constraints/\" + dataflow + \"-product-arch-constraints.yaml sparse-opt/\" + dataflow + \"-product.yaml  -o output/\"\n",
    "    subprocess.run([\"timeloop-mapper\",\"arch/sparse-exporation-architecture.yaml\",\"arch/components/*.yaml\",\"prob/prob\" + density + \".yaml\",\"mapper/mapper.yaml\",\"constraints/\" + dataflow + \"-product-arch-constraints.yaml\",\"sparse-opt/\" + dataflow + \"-product.yaml\",\"-o\",\"output/\"],capture_output=True,text=True,bufsize=1)\n",
    "    print(\"- done with experiment\")"
   ]
  },
  {
   "cell_type": "code",
   "execution_count": 5,
   "id": "d4bda4ec",
   "metadata": {},
   "outputs": [],
   "source": [
    "# Parse edp, energy, cycles, and area from log file\n",
    "def parse_edp(pth):\n",
    "    f=open(pth)\n",
    "    log_txt=f.read()\n",
    "    f.close()\n",
    "    energy=float([s for s in log_txt.split(\"\\n\") if \"Total topology energy\" in s][0].split()[3])\n",
    "    cycles=float([s for s in log_txt.split(\"\\n\") if \"Max topology cycles\" in s][0].split()[3])\n",
    "    area=float([s for s in log_txt.split(\"\\n\") if \"Total topology area\" in s][0].split()[3])\n",
    "    return {\"edp\":energy*cycles,\"energy\":energy,\"cycles\":cycles,\"area\":area}"
   ]
  },
  {
   "cell_type": "code",
   "execution_count": 37,
   "id": "788e56ac",
   "metadata": {},
   "outputs": [
    {
     "name": "stdout",
     "output_type": "stream",
     "text": [
      "Density: 1.0\n",
      "- Experiment: inner product\n",
      "- starting experiment...\n",
      "- done with experiment\n",
      "-- EDP: 1274250851024508.0 pJ-cycles\n"
     ]
    }
   ],
   "source": [
    "from parse_timeloop_output import parse_timeloop_stats\n",
    "import pickle\n",
    "\n",
    "def dictappend(dct, key, value):\n",
    "    if key in dct:\n",
    "        dct[key] = dct[key] + [value]\n",
    "    else:\n",
    "        dct[key] = [value]\n",
    "        \n",
    "    return dct\n",
    "\n",
    "#density = [1.0, 0.1, 0.01, 0.001, 0.0001, 0.00001]\n",
    "density = [1.0]\n",
    "density_str = [str(d) for d in density]\n",
    "# experiment_str = [\"inner\", \"outer\", \"naive-row-wise\"]\n",
    "experiment_str = [\"inner\"]\n",
    "result = {}\n",
    "detailed_result = {}\n",
    "\n",
    "for ddx in range(len(density)):\n",
    "    print(\"Density: \" + density_str[ddx])\n",
    "    for ex in experiment_str:\n",
    "        print(\"- Experiment: \" + ex + \" product\")\n",
    "        run_experiment(ex, density_str[ddx])\n",
    "        stats = parse_timeloop_stats('./output/timeloop-mapper.map+stats.xml')\n",
    "        stats['edp_pJ_cycles'] = stats['energy_pJ']*stats['cycles']\n",
    "        result = dictappend(result, ex, stats['edp_pJ_cycles'])\n",
    "        detailed_result = dictappend(detailed_result, ex, stats)\n",
    "        print(\"-- EDP: \" + str(result[ex][ddx]) + \" pJ-cycles\")\n",
    "        \n",
    "pickle.dump( {\"result\":result,\"detailed_result\":result,\"density\":density, \"experiment_str\":experiment_str}, open( \"./output/experiment_result.p\", \"wb\" ) )"
   ]
  },
  {
   "cell_type": "code",
   "execution_count": null,
   "id": "e13d9e25",
   "metadata": {},
   "outputs": [],
   "source": [
    "density"
   ]
  },
  {
   "cell_type": "code",
   "execution_count": 20,
   "id": "acda6f08",
   "metadata": {},
   "outputs": [
    {
     "name": "stdout",
     "output_type": "stream",
     "text": [
      "{'inner': [1274250851023585.2, 1763935221586.24], 'outer': [765180652389662.8, 1763935221586.24]}\n"
     ]
    }
   ],
   "source": [
    "print(result)"
   ]
  },
  {
   "cell_type": "code",
   "execution_count": 21,
   "id": "6185542a",
   "metadata": {},
   "outputs": [
    {
     "data": {
      "image/png": "[encoded data removed]",
      "text/plain": [
       "<Figure size 432x288 with 1 Axes>"
      ]
     },
     "metadata": {
      "needs_background": "light"
     },
     "output_type": "display_data"
    }
   ],
   "source": [
    "\n",
    "# importing package\n",
    "import matplotlib.pyplot as plt\n",
    "import numpy as np\n",
    "\n",
    "marker_str = [\"x\",\"o\",\"*\"]\n",
    "\n",
    "# plot lines\n",
    "for ex in range(len(experiment_str)):\n",
    "    ex_str = experiment_str[ex]\n",
    "    plt.plot(density, [el for el in result[ex_str]], label = ex_str + \"-product\",marker=marker_str[ex],linestyle='--')\n",
    "plt.grid(True)\n",
    "plt.xscale('log')\n",
    "plt.yscale('log')\n",
    "plt.title(\"Comparison of loop-nest orderings based on EDP\\n(Dataflow re-optimized at each density)\")\n",
    "plt.xlabel(\"Density\")\n",
    "plt.ylabel(\"EDP\")\n",
    "plt.legend()\n",
    "plt.show()"
   ]
  },
  {
   "cell_type": "code",
   "execution_count": null,
   "id": "af268c43",
   "metadata": {},
   "outputs": [],
   "source": [
    "# Parse SparseLoop XML output\n",
    "import xml.etree.ElementTree as ET\n",
    "\n",
    "# create element tree object\n",
    "tree = ET.parse(\"timeloop-model.map+stats.xml\")\n",
    "\n",
    "# get root element\n",
    "root = tree.getroot()\n",
    "\n",
    "root.tag\n",
    "\n",
    "root.attrib\n",
    "\n",
    "for child in root:\n",
    "    print(child.tag, child.attrib)\n",
    "    \n",
    "ET.dump(tree)"
   ]
  },
  {
   "cell_type": "code",
   "execution_count": 29,
   "id": "9be9b714",
   "metadata": {},
   "outputs": [
    {
     "data": {
      "text/plain": [
       "{'problem': [512, 512, 512],\n",
       " 'utilization': 1.0,\n",
       " 'cycles': 9962,\n",
       " 'energy_pJ': 5320083430.253556,\n",
       " 'energy_per_mac': 39.63771037946311,\n",
       " 'macs': 134217728,\n",
       " 'energy_breakdown_pJ': {'MAC': {'energy': 1430116.8295999998,\n",
       "   'utilization': 1.0},\n",
       "  'Buffer': {'energy': 2202044782.2558455,\n",
       "   'storage_access_energy': 2202044782.2558455,\n",
       "   'read_energy': 1384096454.2294512,\n",
       "   'temporal_add_energy': 0.0,\n",
       "   'spatial_add_energy': 0.0,\n",
       "   'address_generation_energy': 0.0,\n",
       "   'network_energy': 0.0,\n",
       "   'energy_per_access_per_instance': array([4.25016   ,        nan, 6.07402552]),\n",
       "   'reads_per_instance': array([524288,      0, 523264]),\n",
       "   'updates_per_instance': array([     0,      0, 524288]),\n",
       "   'fills_per_instance': array([1024,    0, 1024]),\n",
       "   'accesses_per_instance': array([ 525312,       0, 1048576]),\n",
       "   'instances': array([256, 256, 256]),\n",
       "   'utilization': 0.11328125,\n",
       "   'multicast': array([1, 1, 1]),\n",
       "   'dist_multicast': array([0, 0, 0]),\n",
       "   'num_hops': array([0.5, 0.5, 0.5]),\n",
       "   'ingresses': array([524288, 524288, 524288]),\n",
       "   'energy_per_hop_per_instance': array([0., 0., 0.])},\n",
       "  'BackingStorage': {'energy': 3116608531.168111,\n",
       "   'storage_access_energy': 3116608531.168111,\n",
       "   'read_energy': 2118008320.5877051,\n",
       "   'temporal_add_energy': 0.0,\n",
       "   'spatial_add_energy': 0.0,\n",
       "   'address_generation_energy': 0.0,\n",
       "   'network_energy': 0.0,\n",
       "   'energy_per_access_per_instance': array([ 461.76730167, 3808.89662372, 3809.35749275]),\n",
       "   'reads_per_instance': array([262144, 524288,      0]),\n",
       "   'updates_per_instance': array([     0,      0, 262144]),\n",
       "   'fills_per_instance': array([0, 0, 0]),\n",
       "   'accesses_per_instance': array([262144, 524288, 262144]),\n",
       "   'instances': array([1, 1, 1]),\n",
       "   'utilization': 0.052501678466796875,\n",
       "   'multicast': array([  1, 256,   1]),\n",
       "   'dist_multicast': array([0, 0, 0]),\n",
       "   'num_hops': array([  8. , 255.5,   8. ]),\n",
       "   'ingresses': array([262144, 524288, 262144]),\n",
       "   'energy_per_hop_per_instance': array([0., 0., 0.])}}}"
      ]
     },
     "execution_count": 29,
     "metadata": {},
     "output_type": "execute_result"
    }
   ],
   "source": [
    "from parse_timeloop_output import parse_timeloop_stats\n",
    "\n",
    "stats = parse_timeloop_stats('./output/timeloop-mapper.map+stats.xml')\n",
    "\n",
    "stats"
   ]
  },
  {
   "cell_type": "code",
   "execution_count": null,
   "id": "d6c37cf8",
   "metadata": {},
   "outputs": [],
   "source": []
  },
  {
   "cell_type": "code",
   "execution_count": null,
   "id": "2299d3d8",
   "metadata": {},
   "outputs": [],
   "source": []
  }
 ],
 "metadata": {
  "kernelspec": {
   "display_name": "Python 3",
   "language": "python",
   "name": "python3"
  }
 },
 "nbformat": 4,
 "nbformat_minor": 5
}
