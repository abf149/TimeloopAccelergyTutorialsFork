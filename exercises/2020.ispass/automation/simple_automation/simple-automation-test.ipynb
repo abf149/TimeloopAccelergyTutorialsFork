{
 "cells": [
  {
   "cell_type": "code",
   "execution_count": 93,
   "id": "9a6f7b21",
   "metadata": {},
   "outputs": [],
   "source": [
    "import subprocess\n",
    "\n",
    "# inner, outer, naive-row-wise\n",
    "def run_experiment(dataflow, density):\n",
    "    print(\"- starting experiment...\")\n",
    "    density=str(density)\n",
    "    cmd=\"timeloop-mapper arch/sparse-exporation-architecture.yaml arch/components/*.yaml prob/prob\" + density + \".yaml mapper/mapper.yaml constraints/\" + dataflow + \"-product-arch-constraints.yaml sparse-opt/\" + dataflow + \"-product.yaml  -o output/\"\n",
    "    subprocess.run([\"timeloop-mapper\",\"arch/sparse-exporation-architecture.yaml\",\"arch/components/*.yaml\",\"prob/prob\" + density + \".yaml\",\"mapper/mapper.yaml\",\"constraints/\" + dataflow + \"-product-arch-constraints.yaml\",\"sparse-opt/\" + dataflow + \"-product.yaml\",\"-o\",\"output/\"],capture_output=True,text=True,bufsize=1)\n",
    "    print(\"- done with experiment\")"
   ]
  },
  {
   "cell_type": "code",
   "execution_count": 68,
   "id": "39398277",
   "metadata": {},
   "outputs": [],
   "source": [
    "# Parse edp, energy, cycles, and area from log file\n",
    "def parse_edp(pth):\n",
    "    f=open(pth)\n",
    "    log_txt=f.read()\n",
    "    f.close()\n",
    "    energy=float([s for s in log_txt.split(\"\\n\") if \"Total topology energy\" in s][0].split()[3])\n",
    "    cycles=float([s for s in log_txt.split(\"\\n\") if \"Max topology cycles\" in s][0].split()[3])\n",
    "    area=float([s for s in log_txt.split(\"\\n\") if \"Total topology area\" in s][0].split()[3])\n",
    "    return {\"edp\":energy*cycles,\"energy\":energy,\"cycles\":cycles,\"area\":area}"
   ]
  },
  {
   "cell_type": "code",
   "execution_count": 98,
   "id": "28fe5c83",
   "metadata": {},
   "outputs": [
    {
     "data": {
      "text/plain": [
       "{'edp': 5956189624.35,\n",
       " 'energy': 5956189624.35,\n",
       " 'cycles': 1.0,\n",
       " 'area': 57353830.5}"
      ]
     },
     "execution_count": 98,
     "metadata": {},
     "output_type": "execute_result"
    }
   ],
   "source": [
    "parse_edp('./output/timeloop-mapper.stats.txt')"
   ]
  },
  {
   "cell_type": "code",
   "execution_count": 85,
   "id": "7d83aacc",
   "metadata": {},
   "outputs": [
    {
     "ename": "KeyboardInterrupt",
     "evalue": "",
     "output_type": "error",
     "traceback": [
      "\u001b[0;31m---------------------------------------------------------------------------\u001b[0m",
      "\u001b[0;31mKeyboardInterrupt\u001b[0m                         Traceback (most recent call last)",
      "\u001b[0;32m<ipython-input-85-acfae6f0d810>\u001b[0m in \u001b[0;36m<module>\u001b[0;34m\u001b[0m\n\u001b[0;32m----> 1\u001b[0;31m \u001b[0msubprocess\u001b[0m\u001b[0;34m.\u001b[0m\u001b[0mrun\u001b[0m\u001b[0;34m(\u001b[0m\u001b[0;34m[\u001b[0m\u001b[0;34m\"timeloop-mapper\"\u001b[0m\u001b[0;34m,\u001b[0m\u001b[0;34m\"arch/sparse-exporation-architecture.yaml\"\u001b[0m\u001b[0;34m,\u001b[0m\u001b[0;34m\"arch/components/*.yaml\"\u001b[0m\u001b[0;34m,\u001b[0m\u001b[0;34m\"prob/prob0.001.yaml\"\u001b[0m\u001b[0;34m,\u001b[0m\u001b[0;34m\"mapper/mapper.yaml\"\u001b[0m\u001b[0;34m,\u001b[0m\u001b[0;34m\"constraints/inner-product-arch-constraints.yaml\"\u001b[0m\u001b[0;34m,\u001b[0m\u001b[0;34m\"sparse-opt/inner-product.yaml\"\u001b[0m\u001b[0;34m,\u001b[0m\u001b[0;34m\"-o\"\u001b[0m\u001b[0;34m,\u001b[0m\u001b[0;34m\"output/\"\u001b[0m\u001b[0;34m]\u001b[0m\u001b[0;34m,\u001b[0m\u001b[0mcapture_output\u001b[0m\u001b[0;34m=\u001b[0m\u001b[0;32mTrue\u001b[0m\u001b[0;34m)\u001b[0m\u001b[0;34m\u001b[0m\u001b[0;34m\u001b[0m\u001b[0m\n\u001b[0m",
      "\u001b[0;32m/usr/local/bin/conda/lib/python3.8/subprocess.py\u001b[0m in \u001b[0;36mrun\u001b[0;34m(input, capture_output, timeout, check, *popenargs, **kwargs)\u001b[0m\n\u001b[1;32m    493\u001b[0m     \u001b[0;32mwith\u001b[0m \u001b[0mPopen\u001b[0m\u001b[0;34m(\u001b[0m\u001b[0;34m*\u001b[0m\u001b[0mpopenargs\u001b[0m\u001b[0;34m,\u001b[0m \u001b[0;34m**\u001b[0m\u001b[0mkwargs\u001b[0m\u001b[0;34m)\u001b[0m \u001b[0;32mas\u001b[0m \u001b[0mprocess\u001b[0m\u001b[0;34m:\u001b[0m\u001b[0;34m\u001b[0m\u001b[0;34m\u001b[0m\u001b[0m\n\u001b[1;32m    494\u001b[0m         \u001b[0;32mtry\u001b[0m\u001b[0;34m:\u001b[0m\u001b[0;34m\u001b[0m\u001b[0;34m\u001b[0m\u001b[0m\n\u001b[0;32m--> 495\u001b[0;31m             \u001b[0mstdout\u001b[0m\u001b[0;34m,\u001b[0m \u001b[0mstderr\u001b[0m \u001b[0;34m=\u001b[0m \u001b[0mprocess\u001b[0m\u001b[0;34m.\u001b[0m\u001b[0mcommunicate\u001b[0m\u001b[0;34m(\u001b[0m\u001b[0minput\u001b[0m\u001b[0;34m,\u001b[0m \u001b[0mtimeout\u001b[0m\u001b[0;34m=\u001b[0m\u001b[0mtimeout\u001b[0m\u001b[0;34m)\u001b[0m\u001b[0;34m\u001b[0m\u001b[0;34m\u001b[0m\u001b[0m\n\u001b[0m\u001b[1;32m    496\u001b[0m         \u001b[0;32mexcept\u001b[0m \u001b[0mTimeoutExpired\u001b[0m \u001b[0;32mas\u001b[0m \u001b[0mexc\u001b[0m\u001b[0;34m:\u001b[0m\u001b[0;34m\u001b[0m\u001b[0;34m\u001b[0m\u001b[0m\n\u001b[1;32m    497\u001b[0m             \u001b[0mprocess\u001b[0m\u001b[0;34m.\u001b[0m\u001b[0mkill\u001b[0m\u001b[0;34m(\u001b[0m\u001b[0;34m)\u001b[0m\u001b[0;34m\u001b[0m\u001b[0;34m\u001b[0m\u001b[0m\n",
      "\u001b[0;32m/usr/local/bin/conda/lib/python3.8/subprocess.py\u001b[0m in \u001b[0;36mcommunicate\u001b[0;34m(self, input, timeout)\u001b[0m\n\u001b[1;32m   1026\u001b[0m \u001b[0;34m\u001b[0m\u001b[0m\n\u001b[1;32m   1027\u001b[0m             \u001b[0;32mtry\u001b[0m\u001b[0;34m:\u001b[0m\u001b[0;34m\u001b[0m\u001b[0;34m\u001b[0m\u001b[0m\n\u001b[0;32m-> 1028\u001b[0;31m                 \u001b[0mstdout\u001b[0m\u001b[0;34m,\u001b[0m \u001b[0mstderr\u001b[0m \u001b[0;34m=\u001b[0m \u001b[0mself\u001b[0m\u001b[0;34m.\u001b[0m\u001b[0m_communicate\u001b[0m\u001b[0;34m(\u001b[0m\u001b[0minput\u001b[0m\u001b[0;34m,\u001b[0m \u001b[0mendtime\u001b[0m\u001b[0;34m,\u001b[0m \u001b[0mtimeout\u001b[0m\u001b[0;34m)\u001b[0m\u001b[0;34m\u001b[0m\u001b[0;34m\u001b[0m\u001b[0m\n\u001b[0m\u001b[1;32m   1029\u001b[0m             \u001b[0;32mexcept\u001b[0m \u001b[0mKeyboardInterrupt\u001b[0m\u001b[0;34m:\u001b[0m\u001b[0;34m\u001b[0m\u001b[0;34m\u001b[0m\u001b[0m\n\u001b[1;32m   1030\u001b[0m                 \u001b[0;31m# https://bugs.python.org/issue25942\u001b[0m\u001b[0;34m\u001b[0m\u001b[0;34m\u001b[0m\u001b[0;34m\u001b[0m\u001b[0m\n",
      "\u001b[0;32m/usr/local/bin/conda/lib/python3.8/subprocess.py\u001b[0m in \u001b[0;36m_communicate\u001b[0;34m(self, input, endtime, orig_timeout)\u001b[0m\n\u001b[1;32m   1868\u001b[0m                             'failed to raise TimeoutExpired.')\n\u001b[1;32m   1869\u001b[0m \u001b[0;34m\u001b[0m\u001b[0m\n\u001b[0;32m-> 1870\u001b[0;31m                     \u001b[0mready\u001b[0m \u001b[0;34m=\u001b[0m \u001b[0mselector\u001b[0m\u001b[0;34m.\u001b[0m\u001b[0mselect\u001b[0m\u001b[0;34m(\u001b[0m\u001b[0mtimeout\u001b[0m\u001b[0;34m)\u001b[0m\u001b[0;34m\u001b[0m\u001b[0;34m\u001b[0m\u001b[0m\n\u001b[0m\u001b[1;32m   1871\u001b[0m                     \u001b[0mself\u001b[0m\u001b[0;34m.\u001b[0m\u001b[0m_check_timeout\u001b[0m\u001b[0;34m(\u001b[0m\u001b[0mendtime\u001b[0m\u001b[0;34m,\u001b[0m \u001b[0morig_timeout\u001b[0m\u001b[0;34m,\u001b[0m \u001b[0mstdout\u001b[0m\u001b[0;34m,\u001b[0m \u001b[0mstderr\u001b[0m\u001b[0;34m)\u001b[0m\u001b[0;34m\u001b[0m\u001b[0;34m\u001b[0m\u001b[0m\n\u001b[1;32m   1872\u001b[0m \u001b[0;34m\u001b[0m\u001b[0m\n",
      "\u001b[0;32m/usr/local/bin/conda/lib/python3.8/selectors.py\u001b[0m in \u001b[0;36mselect\u001b[0;34m(self, timeout)\u001b[0m\n\u001b[1;32m    413\u001b[0m         \u001b[0mready\u001b[0m \u001b[0;34m=\u001b[0m \u001b[0;34m[\u001b[0m\u001b[0;34m]\u001b[0m\u001b[0;34m\u001b[0m\u001b[0;34m\u001b[0m\u001b[0m\n\u001b[1;32m    414\u001b[0m         \u001b[0;32mtry\u001b[0m\u001b[0;34m:\u001b[0m\u001b[0;34m\u001b[0m\u001b[0;34m\u001b[0m\u001b[0m\n\u001b[0;32m--> 415\u001b[0;31m             \u001b[0mfd_event_list\u001b[0m \u001b[0;34m=\u001b[0m \u001b[0mself\u001b[0m\u001b[0;34m.\u001b[0m\u001b[0m_selector\u001b[0m\u001b[0;34m.\u001b[0m\u001b[0mpoll\u001b[0m\u001b[0;34m(\u001b[0m\u001b[0mtimeout\u001b[0m\u001b[0;34m)\u001b[0m\u001b[0;34m\u001b[0m\u001b[0;34m\u001b[0m\u001b[0m\n\u001b[0m\u001b[1;32m    416\u001b[0m         \u001b[0;32mexcept\u001b[0m \u001b[0mInterruptedError\u001b[0m\u001b[0;34m:\u001b[0m\u001b[0;34m\u001b[0m\u001b[0;34m\u001b[0m\u001b[0m\n\u001b[1;32m    417\u001b[0m             \u001b[0;32mreturn\u001b[0m \u001b[0mready\u001b[0m\u001b[0;34m\u001b[0m\u001b[0;34m\u001b[0m\u001b[0m\n",
      "\u001b[0;31mKeyboardInterrupt\u001b[0m: "
     ]
    }
   ],
   "source": []
  },
  {
   "cell_type": "code",
   "execution_count": 94,
   "id": "db333f81",
   "metadata": {},
   "outputs": [
    {
     "name": "stdout",
     "output_type": "stream",
     "text": [
      "- starting experiment...\n"
     ]
    },
    {
     "ename": "KeyboardInterrupt",
     "evalue": "",
     "output_type": "error",
     "traceback": [
      "\u001b[0;31m---------------------------------------------------------------------------\u001b[0m",
      "\u001b[0;31mKeyboardInterrupt\u001b[0m                         Traceback (most recent call last)",
      "\u001b[0;32m<ipython-input-94-b3dbeb75cf86>\u001b[0m in \u001b[0;36m<module>\u001b[0;34m\u001b[0m\n\u001b[0;32m----> 1\u001b[0;31m \u001b[0mrun_experiment\u001b[0m\u001b[0;34m(\u001b[0m\u001b[0;34m\"inner\"\u001b[0m\u001b[0;34m,\u001b[0m \u001b[0;34m\"0.001\"\u001b[0m\u001b[0;34m)\u001b[0m\u001b[0;34m\u001b[0m\u001b[0;34m\u001b[0m\u001b[0m\n\u001b[0m",
      "\u001b[0;32m<ipython-input-93-77634d3077c6>\u001b[0m in \u001b[0;36mrun_experiment\u001b[0;34m(dataflow, density)\u001b[0m\n\u001b[1;32m      6\u001b[0m     \u001b[0mdensity\u001b[0m\u001b[0;34m=\u001b[0m\u001b[0mstr\u001b[0m\u001b[0;34m(\u001b[0m\u001b[0mdensity\u001b[0m\u001b[0;34m)\u001b[0m\u001b[0;34m\u001b[0m\u001b[0;34m\u001b[0m\u001b[0m\n\u001b[1;32m      7\u001b[0m     \u001b[0mcmd\u001b[0m\u001b[0;34m=\u001b[0m\u001b[0;34m\"timeloop-mapper arch/sparse-exporation-architecture.yaml arch/components/*.yaml prob/prob\"\u001b[0m \u001b[0;34m+\u001b[0m \u001b[0mdensity\u001b[0m \u001b[0;34m+\u001b[0m \u001b[0;34m\".yaml mapper/mapper.yaml constraints/\"\u001b[0m \u001b[0;34m+\u001b[0m \u001b[0mdataflow\u001b[0m \u001b[0;34m+\u001b[0m \u001b[0;34m\"-product-arch-constraints.yaml sparse-opt/\"\u001b[0m \u001b[0;34m+\u001b[0m \u001b[0mdataflow\u001b[0m \u001b[0;34m+\u001b[0m \u001b[0;34m\"-product.yaml  -o output/\"\u001b[0m\u001b[0;34m\u001b[0m\u001b[0;34m\u001b[0m\u001b[0m\n\u001b[0;32m----> 8\u001b[0;31m     \u001b[0msubprocess\u001b[0m\u001b[0;34m.\u001b[0m\u001b[0mrun\u001b[0m\u001b[0;34m(\u001b[0m\u001b[0;34m[\u001b[0m\u001b[0;34m\"timeloop-mapper\"\u001b[0m\u001b[0;34m,\u001b[0m\u001b[0;34m\"arch/sparse-exporation-architecture.yaml\"\u001b[0m\u001b[0;34m,\u001b[0m\u001b[0;34m\"arch/components/*.yaml\"\u001b[0m\u001b[0;34m,\u001b[0m\u001b[0;34m\"prob/prob\"\u001b[0m \u001b[0;34m+\u001b[0m \u001b[0mdensity\u001b[0m \u001b[0;34m+\u001b[0m \u001b[0;34m\".yaml\"\u001b[0m\u001b[0;34m,\u001b[0m\u001b[0;34m\"mapper/mapper.yaml\"\u001b[0m\u001b[0;34m,\u001b[0m\u001b[0;34m\"constraints/\"\u001b[0m \u001b[0;34m+\u001b[0m \u001b[0mdataflow\u001b[0m \u001b[0;34m+\u001b[0m \u001b[0;34m\"-product-arch-constraints.yaml\"\u001b[0m\u001b[0;34m,\u001b[0m\u001b[0;34m\"sparse-opt/\"\u001b[0m \u001b[0;34m+\u001b[0m \u001b[0mdataflow\u001b[0m \u001b[0;34m+\u001b[0m \u001b[0;34m\"-product.yaml\"\u001b[0m\u001b[0;34m,\u001b[0m\u001b[0;34m\"-o\"\u001b[0m\u001b[0;34m,\u001b[0m\u001b[0;34m\"output/\"\u001b[0m\u001b[0;34m]\u001b[0m\u001b[0;34m,\u001b[0m\u001b[0mcapture_output\u001b[0m\u001b[0;34m=\u001b[0m\u001b[0;32mTrue\u001b[0m\u001b[0;34m,\u001b[0m\u001b[0mtext\u001b[0m\u001b[0;34m=\u001b[0m\u001b[0;32mTrue\u001b[0m\u001b[0;34m,\u001b[0m\u001b[0mbufsize\u001b[0m\u001b[0;34m=\u001b[0m\u001b[0;36m1\u001b[0m\u001b[0;34m)\u001b[0m\u001b[0;34m\u001b[0m\u001b[0;34m\u001b[0m\u001b[0m\n\u001b[0m\u001b[1;32m      9\u001b[0m     \u001b[0mprint\u001b[0m\u001b[0;34m(\u001b[0m\u001b[0;34m\"- done with experiment\"\u001b[0m\u001b[0;34m)\u001b[0m\u001b[0;34m\u001b[0m\u001b[0;34m\u001b[0m\u001b[0m\n",
      "\u001b[0;32m/usr/local/bin/conda/lib/python3.8/subprocess.py\u001b[0m in \u001b[0;36mrun\u001b[0;34m(input, capture_output, timeout, check, *popenargs, **kwargs)\u001b[0m\n\u001b[1;32m    493\u001b[0m     \u001b[0;32mwith\u001b[0m \u001b[0mPopen\u001b[0m\u001b[0;34m(\u001b[0m\u001b[0;34m*\u001b[0m\u001b[0mpopenargs\u001b[0m\u001b[0;34m,\u001b[0m \u001b[0;34m**\u001b[0m\u001b[0mkwargs\u001b[0m\u001b[0;34m)\u001b[0m \u001b[0;32mas\u001b[0m \u001b[0mprocess\u001b[0m\u001b[0;34m:\u001b[0m\u001b[0;34m\u001b[0m\u001b[0;34m\u001b[0m\u001b[0m\n\u001b[1;32m    494\u001b[0m         \u001b[0;32mtry\u001b[0m\u001b[0;34m:\u001b[0m\u001b[0;34m\u001b[0m\u001b[0;34m\u001b[0m\u001b[0m\n\u001b[0;32m--> 495\u001b[0;31m             \u001b[0mstdout\u001b[0m\u001b[0;34m,\u001b[0m \u001b[0mstderr\u001b[0m \u001b[0;34m=\u001b[0m \u001b[0mprocess\u001b[0m\u001b[0;34m.\u001b[0m\u001b[0mcommunicate\u001b[0m\u001b[0;34m(\u001b[0m\u001b[0minput\u001b[0m\u001b[0;34m,\u001b[0m \u001b[0mtimeout\u001b[0m\u001b[0;34m=\u001b[0m\u001b[0mtimeout\u001b[0m\u001b[0;34m)\u001b[0m\u001b[0;34m\u001b[0m\u001b[0;34m\u001b[0m\u001b[0m\n\u001b[0m\u001b[1;32m    496\u001b[0m         \u001b[0;32mexcept\u001b[0m \u001b[0mTimeoutExpired\u001b[0m \u001b[0;32mas\u001b[0m \u001b[0mexc\u001b[0m\u001b[0;34m:\u001b[0m\u001b[0;34m\u001b[0m\u001b[0;34m\u001b[0m\u001b[0m\n\u001b[1;32m    497\u001b[0m             \u001b[0mprocess\u001b[0m\u001b[0;34m.\u001b[0m\u001b[0mkill\u001b[0m\u001b[0;34m(\u001b[0m\u001b[0;34m)\u001b[0m\u001b[0;34m\u001b[0m\u001b[0;34m\u001b[0m\u001b[0m\n",
      "\u001b[0;32m/usr/local/bin/conda/lib/python3.8/subprocess.py\u001b[0m in \u001b[0;36mcommunicate\u001b[0;34m(self, input, timeout)\u001b[0m\n\u001b[1;32m   1026\u001b[0m \u001b[0;34m\u001b[0m\u001b[0m\n\u001b[1;32m   1027\u001b[0m             \u001b[0;32mtry\u001b[0m\u001b[0;34m:\u001b[0m\u001b[0;34m\u001b[0m\u001b[0;34m\u001b[0m\u001b[0m\n\u001b[0;32m-> 1028\u001b[0;31m                 \u001b[0mstdout\u001b[0m\u001b[0;34m,\u001b[0m \u001b[0mstderr\u001b[0m \u001b[0;34m=\u001b[0m \u001b[0mself\u001b[0m\u001b[0;34m.\u001b[0m\u001b[0m_communicate\u001b[0m\u001b[0;34m(\u001b[0m\u001b[0minput\u001b[0m\u001b[0;34m,\u001b[0m \u001b[0mendtime\u001b[0m\u001b[0;34m,\u001b[0m \u001b[0mtimeout\u001b[0m\u001b[0;34m)\u001b[0m\u001b[0;34m\u001b[0m\u001b[0;34m\u001b[0m\u001b[0m\n\u001b[0m\u001b[1;32m   1029\u001b[0m             \u001b[0;32mexcept\u001b[0m \u001b[0mKeyboardInterrupt\u001b[0m\u001b[0;34m:\u001b[0m\u001b[0;34m\u001b[0m\u001b[0;34m\u001b[0m\u001b[0m\n\u001b[1;32m   1030\u001b[0m                 \u001b[0;31m# https://bugs.python.org/issue25942\u001b[0m\u001b[0;34m\u001b[0m\u001b[0;34m\u001b[0m\u001b[0;34m\u001b[0m\u001b[0m\n",
      "\u001b[0;32m/usr/local/bin/conda/lib/python3.8/subprocess.py\u001b[0m in \u001b[0;36m_communicate\u001b[0;34m(self, input, endtime, orig_timeout)\u001b[0m\n\u001b[1;32m   1868\u001b[0m                             'failed to raise TimeoutExpired.')\n\u001b[1;32m   1869\u001b[0m \u001b[0;34m\u001b[0m\u001b[0m\n\u001b[0;32m-> 1870\u001b[0;31m                     \u001b[0mready\u001b[0m \u001b[0;34m=\u001b[0m \u001b[0mselector\u001b[0m\u001b[0;34m.\u001b[0m\u001b[0mselect\u001b[0m\u001b[0;34m(\u001b[0m\u001b[0mtimeout\u001b[0m\u001b[0;34m)\u001b[0m\u001b[0;34m\u001b[0m\u001b[0;34m\u001b[0m\u001b[0m\n\u001b[0m\u001b[1;32m   1871\u001b[0m                     \u001b[0mself\u001b[0m\u001b[0;34m.\u001b[0m\u001b[0m_check_timeout\u001b[0m\u001b[0;34m(\u001b[0m\u001b[0mendtime\u001b[0m\u001b[0;34m,\u001b[0m \u001b[0morig_timeout\u001b[0m\u001b[0;34m,\u001b[0m \u001b[0mstdout\u001b[0m\u001b[0;34m,\u001b[0m \u001b[0mstderr\u001b[0m\u001b[0;34m)\u001b[0m\u001b[0;34m\u001b[0m\u001b[0;34m\u001b[0m\u001b[0m\n\u001b[1;32m   1872\u001b[0m \u001b[0;34m\u001b[0m\u001b[0m\n",
      "\u001b[0;32m/usr/local/bin/conda/lib/python3.8/selectors.py\u001b[0m in \u001b[0;36mselect\u001b[0;34m(self, timeout)\u001b[0m\n\u001b[1;32m    413\u001b[0m         \u001b[0mready\u001b[0m \u001b[0;34m=\u001b[0m \u001b[0;34m[\u001b[0m\u001b[0;34m]\u001b[0m\u001b[0;34m\u001b[0m\u001b[0;34m\u001b[0m\u001b[0m\n\u001b[1;32m    414\u001b[0m         \u001b[0;32mtry\u001b[0m\u001b[0;34m:\u001b[0m\u001b[0;34m\u001b[0m\u001b[0;34m\u001b[0m\u001b[0m\n\u001b[0;32m--> 415\u001b[0;31m             \u001b[0mfd_event_list\u001b[0m \u001b[0;34m=\u001b[0m \u001b[0mself\u001b[0m\u001b[0;34m.\u001b[0m\u001b[0m_selector\u001b[0m\u001b[0;34m.\u001b[0m\u001b[0mpoll\u001b[0m\u001b[0;34m(\u001b[0m\u001b[0mtimeout\u001b[0m\u001b[0;34m)\u001b[0m\u001b[0;34m\u001b[0m\u001b[0;34m\u001b[0m\u001b[0m\n\u001b[0m\u001b[1;32m    416\u001b[0m         \u001b[0;32mexcept\u001b[0m \u001b[0mInterruptedError\u001b[0m\u001b[0;34m:\u001b[0m\u001b[0;34m\u001b[0m\u001b[0;34m\u001b[0m\u001b[0m\n\u001b[1;32m    417\u001b[0m             \u001b[0;32mreturn\u001b[0m \u001b[0mready\u001b[0m\u001b[0;34m\u001b[0m\u001b[0;34m\u001b[0m\u001b[0m\n",
      "\u001b[0;31mKeyboardInterrupt\u001b[0m: "
     ]
    }
   ],
   "source": [
    "run_experiment(\"inner\", \"0.001\")"
   ]
  },
  {
   "cell_type": "code",
   "execution_count": 102,
   "id": "873542b2",
   "metadata": {},
   "outputs": [
    {
     "name": "stdout",
     "output_type": "stream",
     "text": [
      "Density: 1.0\n",
      "Inner\n",
      "- starting experiment...\n",
      "- done with experiment\n",
      "- EDP: 1274250851023585.2\n",
      "Outer\n",
      "- starting experiment...\n",
      "- done with experiment\n",
      "- EDP: 765180652389662.8\n",
      "Naive row-wise\n",
      "- starting experiment...\n",
      "- done with experiment\n",
      "- EDP: 765180652389662.8\n",
      "Density: 0.1\n",
      "Inner\n",
      "- starting experiment...\n",
      "- done with experiment\n",
      "- EDP: 1763935221586.24\n",
      "Outer\n",
      "- starting experiment...\n",
      "- done with experiment\n",
      "- EDP: 1763935221586.24\n",
      "Naive row-wise\n",
      "- starting experiment...\n",
      "- done with experiment\n",
      "- EDP: 1763935221586.24\n",
      "Density: 0.01\n",
      "Inner\n",
      "- starting experiment...\n",
      "- done with experiment\n",
      "- EDP: 78904888402.32\n",
      "Outer\n",
      "- starting experiment...\n",
      "- done with experiment\n",
      "- EDP: 60663763706.64\n",
      "Naive row-wise\n",
      "- starting experiment...\n",
      "- done with experiment\n",
      "- EDP: 78904888402.32\n",
      "Density: 0.001\n",
      "Inner\n",
      "- starting experiment...\n",
      "- done with experiment\n",
      "- EDP: 1593645489.37\n",
      "Outer\n",
      "- starting experiment...\n",
      "- done with experiment\n",
      "- EDP: 1592580629.6\n",
      "Naive row-wise\n",
      "- starting experiment...\n",
      "- done with experiment\n",
      "- EDP: 1592580629.6\n",
      "Density: 0.0001\n",
      "Inner\n",
      "- starting experiment...\n",
      "- done with experiment\n",
      "- EDP: 391781619.08\n",
      "Outer\n",
      "- starting experiment...\n",
      "- done with experiment\n",
      "- EDP: 706229344.08\n",
      "Naive row-wise\n",
      "- starting experiment...\n",
      "- done with experiment\n",
      "- EDP: 706229344.08\n",
      "Density: 0.00001\n",
      "Inner\n",
      "- starting experiment...\n",
      "- done with experiment\n",
      "- EDP: 78401504.42\n",
      "Outer\n",
      "- starting experiment...\n",
      "- done with experiment\n",
      "- EDP: 78401504.42\n",
      "Naive row-wise\n",
      "- starting experiment...\n",
      "- done with experiment\n",
      "- EDP: 78401504.42\n"
     ]
    }
   ],
   "source": [
    "density = [1.0, 0.1, 0.01, 0.001, 0.0001, 0.00001]\n",
    "density_str = [\"1.0\", \"0.1\", \"0.01\", \"0.001\", \"0.0001\", \"0.00001\"]\n",
    "inner = []\n",
    "outer = []\n",
    "naive_row_wise = []\n",
    "\n",
    "for ddx in range(len(density)):\n",
    "    \n",
    "    print(\"Density: \" + density_str[ddx])\n",
    "\n",
    "    \n",
    "    print(\"Inner\")\n",
    "    \n",
    "    run_experiment(\"inner\", density_str[ddx])\n",
    "    \n",
    "    inner = inner + [parse_edp('./output/timeloop-mapper.stats.txt')['edp']]\n",
    "    \n",
    "    print(\"- EDP: \" + str(inner[ddx]))\n",
    "    \n",
    "    print(\"Outer\")    \n",
    "    \n",
    "    run_experiment(\"outer\", density_str[ddx])\n",
    "    \n",
    "    outer = outer + [parse_edp('./output/timeloop-mapper.stats.txt')['edp']]\n",
    "    \n",
    "    print(\"- EDP: \" + str(outer[ddx]))\n",
    "    \n",
    "    print(\"Naive row-wise\")    \n",
    "    \n",
    "    run_experiment(\"naive-row-wise\", density_str[ddx])\n",
    "    \n",
    "    naive_row_wise = naive_row_wise + [parse_edp('./output/timeloop-mapper.stats.txt')['edp']]\n",
    "    \n",
    "    print(\"- EDP: \" + str(naive_row_wise[ddx]))"
   ]
  },
  {
   "cell_type": "code",
   "execution_count": 96,
   "id": "8bc568eb",
   "metadata": {},
   "outputs": [
    {
     "data": {
      "text/plain": [
       "[1]"
      ]
     },
     "execution_count": 96,
     "metadata": {},
     "output_type": "execute_result"
    }
   ],
   "source": [
    "\n",
    "# importing package\n",
    "import matplotlib.pyplot as plt\n",
    "import numpy as np\n",
    "\n",
    "  \n",
    "# plot lines\n",
    "plt.plot(x, inner, label = \"Inner-product\")\n",
    "plt.plot(y, outer, label = \"Outer-product\")\n",
    "plt.plot(x, naive_row_wise, label = \"curv\")\n",
    "plt.plot(x, np.cos(x), label = \"curve 2\")\n",
    "plt.legend()\n",
    "plt.show()"
   ]
  },
  {
   "cell_type": "code",
   "execution_count": null,
   "id": "f4924f2f",
   "metadata": {},
   "outputs": [],
   "source": [
    "# Parse SparseLoop XML output\n",
    "import xml.etree.ElementTree as ET\n",
    "\n",
    "# create element tree object\n",
    "tree = ET.parse(\"timeloop-model.map+stats.xml\")\n",
    "\n",
    "# get root element\n",
    "root = tree.getroot()\n",
    "\n",
    "root.tag\n",
    "\n",
    "root.attrib\n",
    "\n",
    "for child in root:\n",
    "    print(child.tag, child.attrib)\n",
    "    \n",
    "ET.dump(tree)"
   ]
  }
 ],
 "metadata": {
  "kernelspec": {
   "display_name": "Python 3",
   "language": "python",
   "name": "python3"
  },
  "language_info": {
   "codemirror_mode": {
    "name": "ipython",
    "version": 3
   },
   "file_extension": ".py",
   "mimetype": "text/x-python",
   "name": "python",
   "nbconvert_exporter": "python",
   "pygments_lexer": "ipython3",
   "version": "3.8.8"
  }
 },
 "nbformat": 4,
 "nbformat_minor": 5
}
